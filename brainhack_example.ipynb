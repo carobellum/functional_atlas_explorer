{
 "cells": [
  {
   "cell_type": "code",
   "execution_count": 2,
   "metadata": {},
   "outputs": [],
   "source": [
    "import sys\n",
    "sys.path.append(\"..\")\n",
    "import pathlib\n",
    "import pickle\n",
    "import numpy as np\n",
    "from util import *\n",
    "# import nbformat\n"
   ]
  },
  {
   "cell_type": "markdown",
   "metadata": {},
   "source": [
    "## Load data"
   ]
  },
  {
   "cell_type": "code",
   "execution_count": 3,
   "metadata": {},
   "outputs": [],
   "source": [
    "with open('data.pkl', 'rb') as f:  # Python 3: open(..., 'rb')\n",
    "    Prop, atlas, cmap, labels, model, info = pickle.load(f)\n"
   ]
  },
  {
   "cell_type": "code",
   "execution_count": 7,
   "metadata": {},
   "outputs": [
    {
     "ename": "ValueError",
     "evalue": "Mime type rendering requires nbformat>=4.2.0 but it is not installed",
     "output_type": "error",
     "traceback": [
      "\u001b[0;31m---------------------------------------------------------------------------\u001b[0m",
      "\u001b[0;31mValueError\u001b[0m                                Traceback (most recent call last)",
      "Cell \u001b[0;32mIn [7], line 10\u001b[0m\n\u001b[1;32m      3\u001b[0m parcel \u001b[39m=\u001b[39m Prop\u001b[39m.\u001b[39margmax(axis\u001b[39m=\u001b[39m\u001b[39m0\u001b[39m)\u001b[39m+\u001b[39m\u001b[39m1\u001b[39m\n\u001b[1;32m      6\u001b[0m ax \u001b[39m=\u001b[39m plot_data_flat(parcel,atlas,cmap \u001b[39m=\u001b[39m cmap,\n\u001b[1;32m      7\u001b[0m                     dtype\u001b[39m=\u001b[39m\u001b[39m'\u001b[39m\u001b[39mlabel\u001b[39m\u001b[39m'\u001b[39m,\n\u001b[1;32m      8\u001b[0m                     labels\u001b[39m=\u001b[39mlabels,\n\u001b[1;32m      9\u001b[0m                     render\u001b[39m=\u001b[39m\u001b[39m'\u001b[39m\u001b[39mplotly\u001b[39m\u001b[39m'\u001b[39m)\n\u001b[0;32m---> 10\u001b[0m ax\u001b[39m.\u001b[39;49mshow()\n",
      "File \u001b[0;32m~/Documents/Projects/Functional_Fusion/code/env/lib/python3.9/site-packages/plotly/basedatatypes.py:3398\u001b[0m, in \u001b[0;36mBaseFigure.show\u001b[0;34m(self, *args, **kwargs)\u001b[0m\n\u001b[1;32m   3365\u001b[0m \u001b[39m\"\"\"\u001b[39;00m\n\u001b[1;32m   3366\u001b[0m \u001b[39mShow a figure using either the default renderer(s) or the renderer(s)\u001b[39;00m\n\u001b[1;32m   3367\u001b[0m \u001b[39mspecified by the renderer argument\u001b[39;00m\n\u001b[0;32m   (...)\u001b[0m\n\u001b[1;32m   3394\u001b[0m \u001b[39mNone\u001b[39;00m\n\u001b[1;32m   3395\u001b[0m \u001b[39m\"\"\"\u001b[39;00m\n\u001b[1;32m   3396\u001b[0m \u001b[39mimport\u001b[39;00m \u001b[39mplotly\u001b[39;00m\u001b[39m.\u001b[39;00m\u001b[39mio\u001b[39;00m \u001b[39mas\u001b[39;00m \u001b[39mpio\u001b[39;00m\n\u001b[0;32m-> 3398\u001b[0m \u001b[39mreturn\u001b[39;00m pio\u001b[39m.\u001b[39;49mshow(\u001b[39mself\u001b[39;49m, \u001b[39m*\u001b[39;49margs, \u001b[39m*\u001b[39;49m\u001b[39m*\u001b[39;49mkwargs)\n",
      "File \u001b[0;32m~/Documents/Projects/Functional_Fusion/code/env/lib/python3.9/site-packages/plotly/io/_renderers.py:396\u001b[0m, in \u001b[0;36mshow\u001b[0;34m(fig, renderer, validate, **kwargs)\u001b[0m\n\u001b[1;32m    391\u001b[0m         \u001b[39mraise\u001b[39;00m \u001b[39mValueError\u001b[39;00m(\n\u001b[1;32m    392\u001b[0m             \u001b[39m\"\u001b[39m\u001b[39mMime type rendering requires ipython but it is not installed\u001b[39m\u001b[39m\"\u001b[39m\n\u001b[1;32m    393\u001b[0m         )\n\u001b[1;32m    395\u001b[0m     \u001b[39mif\u001b[39;00m \u001b[39mnot\u001b[39;00m nbformat \u001b[39mor\u001b[39;00m LooseVersion(nbformat\u001b[39m.\u001b[39m__version__) \u001b[39m<\u001b[39m LooseVersion(\u001b[39m\"\u001b[39m\u001b[39m4.2.0\u001b[39m\u001b[39m\"\u001b[39m):\n\u001b[0;32m--> 396\u001b[0m         \u001b[39mraise\u001b[39;00m \u001b[39mValueError\u001b[39;00m(\n\u001b[1;32m    397\u001b[0m             \u001b[39m\"\u001b[39m\u001b[39mMime type rendering requires nbformat>=4.2.0 but it is not installed\u001b[39m\u001b[39m\"\u001b[39m\n\u001b[1;32m    398\u001b[0m         )\n\u001b[1;32m    400\u001b[0m     ipython_display\u001b[39m.\u001b[39mdisplay(bundle, raw\u001b[39m=\u001b[39m\u001b[39mTrue\u001b[39;00m)\n\u001b[1;32m    402\u001b[0m \u001b[39m# external renderers\u001b[39;00m\n",
      "\u001b[0;31mValueError\u001b[0m: Mime type rendering requires nbformat>=4.2.0 but it is not installed"
     ]
    }
   ],
   "source": [
    "# Plot the parcellation\n",
    "# Prop = np.array(model.marginal_prob())\n",
    "parcel = Prop.argmax(axis=0)+1\n",
    "\n",
    "\n",
    "ax = plot_data_flat(parcel,atlas,cmap = cmap,\n",
    "                    dtype='label',\n",
    "                    labels=labels,\n",
    "                    render='plotly')\n",
    "ax.show()"
   ]
  },
  {
   "cell_type": "code",
   "execution_count": null,
   "metadata": {},
   "outputs": [
    {
     "data": {
      "text/plain": [
       "array(['0', 'B1L', 'C1L', 'A3L', 'A4L', 'B3L', 'B2L', 'D1L', 'B4L', 'E2L',\n",
       "       'A1L', 'D2L', 'E3L', 'C3L', 'E1L', 'C4L', 'A2L', 'C2L', 'B1R',\n",
       "       'C1R', 'A3R', 'A4R', 'B3R', 'B2R', 'D1R', 'B4R', 'E2R', 'A1R',\n",
       "       'D2R', 'E3R', 'C3R', 'E1R', 'C4R', 'A2R', 'C2R'], dtype=object)"
      ]
     },
     "execution_count": 11,
     "metadata": {},
     "output_type": "execute_result"
    }
   ],
   "source": [
    "labels"
   ]
  },
  {
   "cell_type": "code",
   "execution_count": null,
   "metadata": {},
   "outputs": [],
   "source": [
    "# for each parcel, get the highest scoring task\n",
    "profiles, conditions = ph.get_profiles(model=model,info=info)\n",
    "datasets = info.datasets.strip(\"'[\").strip(\"]'\").split(\"' '\")\n"
   ]
  },
  {
   "cell_type": "code",
   "execution_count": null,
   "metadata": {},
   "outputs": [],
   "source": [
    "# Collect parcel profile for each task\n",
    "label_profile = {}\n",
    "n_highest = 2\n",
    "for l,label in enumerate(labels):\n",
    "    if l != 0:\n",
    "        parcel_no = labels.tolist().index(label)-1\n",
    "        profile = ph.show_parcel_profile(parcel_no, profiles, conditions, datasets, show_ds='all', ncond=1, print=False)\n",
    "        highest_conditions = ['{}:{}'.format(datasets[p][:2], ' & '.join(prof[:n_highest])) for p,prof in enumerate(profile)]\n",
    "        label_profile[label]=highest_conditions\n",
    "\n",
    "labels_alpha = sorted(label_profile.keys())\n"
   ]
  },
  {
   "cell_type": "markdown",
   "metadata": {},
   "source": [
    "## A CLuster Profiles"
   ]
  },
  {
   "cell_type": "code",
   "execution_count": null,
   "metadata": {},
   "outputs": [
    {
     "name": "stdout",
     "output_type": "stream",
     "text": [
      "A1L ['Md:VideoKnots & VisualSearchLarge', 'Po:romance_movie & semantic_prediction', 'Ni:CalcEasy & AnimalVoice', 'Ib:foot_right & audio_sentence']\n",
      "A1R ['Md:VideoKnots & rest', 'Po:semantic_prediction & theory_of_mind', 'Ni:CalcEasy & CountTone', 'Ib:foot_right & finger_right']\n",
      "A2L ['Md:SpatialNavigation & MotorImagery', 'Po:romance_movie & rest', 'Ni:CalcHard & CalcEasy', 'Ib:enumeration_response_num_2 & triangle_intention']\n",
      "A2R ['Md:VerbGen & SpatialNavigation', 'Po:theory_of_mind & romance_movie', 'Ni:CalcHard & CalcEasy', 'Ib:enumeration_response_num_2 & enumeration_response_num_4']\n",
      "A3L ['Md:VideoAct & VideoKnots', 'Po:romance_movie & rest', 'Ni:AnimalVoice & AnimalPhoto', 'Ib:enumeration_response_num_2 & enumeration_response_num_3']\n",
      "A3R ['Md:VideoAct & FingerSeq', 'Po:romance_movie & rest', 'Ni:CalcHard & AnimalVoice', 'Ib:enumeration_response_num_2 & enumeration_response_num_3']\n",
      "A4L ['Md:FingerSeq & VideoAct', 'Po:romance_movie & rest', 'Ni:CalcHard & CalcEasy', 'Ib:peripheral & left_meridian']\n",
      "A4R ['Md:FingerSeq & VideoAct', 'Po:romance_movie & rest', 'Ni:CalcHard & AnimalPhoto', 'Ib:peripheral & left_meridian']\n"
     ]
    }
   ],
   "source": [
    "\n",
    "cluster = 'A'\n",
    "cluster_labels = [label for label in labels_alpha if cluster in label]\n",
    "for label in cluster_labels:\n",
    "    print(label, label_profile[label])\n"
   ]
  },
  {
   "cell_type": "markdown",
   "metadata": {},
   "source": [
    "## B CLuster Profiles"
   ]
  },
  {
   "cell_type": "code",
   "execution_count": null,
   "metadata": {},
   "outputs": [
    {
     "name": "stdout",
     "output_type": "stream",
     "text": [
      "B1L ['Md:VisualSearchLarge & VisualSearchMed', 'Po:romance_movie & rest', 'Ni:CalcHard & AnimalPhoto', 'Ib:vstm_response_num_2 & speech']\n",
      "B1R ['Md:VisualSearchLarge & ToM', 'Po:romance_movie & rest', 'Ni:CalcHard & AnimalPhoto', 'Ib:vstm_response_num_2 & punishment']\n",
      "B2L ['Md:ToM & VideoKnots', 'Po:romance_movie & finger_sequence', 'Ni:CountTone & CategoryFluency ', 'Ib:vertical_checkerboard & upper_left']\n",
      "B2R ['Md:ToM & VideoKnots', 'Po:theory_of_mind & romance_movie', 'Ni:CategoryFluency  & ComparePeople', 'Ib:vertical_checkerboard & lower_right']\n",
      "B3L ['Md:Verbal2Back & Object2Back', 'Po:romance_movie & visual_search', 'Ni:CalcEasy & AnimalVoice', 'Ib:vstm_response_num_4 & vstm_response_num_5']\n",
      "B3R ['Md:VerbGen & Verbal2Back', 'Po:theory_of_mind & visual_search', 'Ni:CalcEasy & AnimalVoice', 'Ib:vstm_response_num_4 & vstm_response_num_5']\n",
      "B4L ['Md:ToM & Verbal2Back', 'Po:finger_sequence & action_observation_knots', 'Ni:Clock & CategoryFluency ', 'Ib:fixation_right & punishment']\n",
      "B4R ['Md:VerbGen & ToM', 'Po:theory_of_mind & flexion_extension', 'Ni:CategoryFluency  & ComparePeople', 'Ib:punishment & 2back_tools']\n"
     ]
    }
   ],
   "source": [
    "\n",
    "cluster = 'B'\n",
    "cluster_labels = [label for label in labels_alpha if cluster in label]\n",
    "for label in cluster_labels:\n",
    "    print(label, label_profile[label])\n"
   ]
  },
  {
   "cell_type": "markdown",
   "metadata": {},
   "source": [
    "## C Cluster Profiles"
   ]
  },
  {
   "cell_type": "code",
   "execution_count": null,
   "metadata": {},
   "outputs": [
    {
     "name": "stdout",
     "output_type": "stream",
     "text": [
      "C1L ['Md:Verbal2Back & Object0Back', 'Po:romance_movie & rest', 'Ni:CalcHard & Clock', 'Ib:vstm_response_num_4 & vstm_response_num_5']\n",
      "C1R ['Md:VerbGen & Verbal2Back', 'Po:romance_movie & theory_of_mind', 'Ni:CalcHard & CategoryFluency ', 'Ib:vstm_response_num_4 & vstm_response_num_5']\n",
      "C2L ['Md:Verbal2Back & Object2Back', 'Po:romance_movie & rest', 'Ni:AnimalPhoto & CategoryFluency ', 'Ib:vstm_response_num_4 & vstm_response_num_5']\n",
      "C2R ['Md:Verbal2Back & Object2Back', 'Po:romance_movie & visual_search', 'Ni:CategoryFluency  & CalcHard', 'Ib:vstm_response_num_4 & vstm_response_num_5']\n",
      "C3L ['Md:FingerSeq & VisualSearchLarge', 'Po:romance_movie & rest', 'Ni:CalcEasy & CalcHard', 'Ib:vstm_response_num_4 & vstm_response_num_5']\n",
      "C3R ['Md:FingerSeq & IntervalTiming', 'Po:romance_movie & rest', 'Ni:CalcEasy & CalcHard', 'Ib:vstm_response_num_4 & lower_left']\n",
      "C4L ['Md:FingerSeq & Go', 'Po:romance_movie & rest', 'Ni:CalcHard & AnimalPhoto', 'Ib:face & audio_sentence']\n",
      "C4R ['Md:FingerSeq & VerbGen', 'Po:romance_movie & theory_of_mind', 'Ni:CalcHard & AnimalPhoto', 'Ib:face & audio_sentence']\n"
     ]
    }
   ],
   "source": [
    "\n",
    "cluster = 'C'\n",
    "cluster_labels = [label for label in labels_alpha if cluster in label]\n",
    "for label in cluster_labels:\n",
    "    print(label, label_profile[label])\n"
   ]
  },
  {
   "cell_type": "code",
   "execution_count": null,
   "metadata": {},
   "outputs": [],
   "source": []
  },
  {
   "cell_type": "markdown",
   "metadata": {},
   "source": [
    "## D Cluster Profiles"
   ]
  },
  {
   "cell_type": "code",
   "execution_count": null,
   "metadata": {},
   "outputs": [
    {
     "name": "stdout",
     "output_type": "stream",
     "text": [
      "D1L ['Md:ToM & rest', 'Po:finger_sequence & flexion_extension', 'Ni:CalcEasy & AnimalVoice', 'Ib:object_grasp & foot_right']\n",
      "D1R ['Md:ToM & VerbGen', 'Po:theory_of_mind & action_observation_knots', 'Ni:CalcEasy & CountTone', 'Ib:mental & foot_right']\n",
      "D2L ['Md:ToM & rest', 'Po:rest & n_back', 'Ni:CalcEasy & CountTone', 'Ib:vstm_response_num_3 & false_belief_video']\n",
      "D2R ['Md:ToM & VerbGen', 'Po:theory_of_mind & n_back', 'Ni:CalcEasy & CountTone', 'Ib:vstm_response_num_2 & 2back_place']\n"
     ]
    }
   ],
   "source": [
    "cluster = 'D'\n",
    "cluster_labels = [label for label in labels_alpha if cluster in label]\n",
    "for label in cluster_labels:\n",
    "    print(label, label_profile[label])\n"
   ]
  },
  {
   "cell_type": "markdown",
   "metadata": {},
   "source": [
    "## E Cluster Profiles"
   ]
  },
  {
   "cell_type": "code",
   "execution_count": null,
   "metadata": {},
   "outputs": [
    {
     "name": "stdout",
     "output_type": "stream",
     "text": [
      "E1L ['Md:FingerSeq & FingerSimple', 'Po:finger_sequence & n_back', 'Ni:CalcHard & CalcEasy', 'Ib:vstm_response_num_5 & vstm_response_num_4']\n",
      "E1R ['Md:FingerSeq & FingerSimple', 'Po:theory_of_mind & n_back', 'Ni:CalcEasy & CalcHard', 'Ib:vstm_response_num_4 & vstm_response_num_5']\n",
      "E2L ['Md:FingerSimple & FingerSeq', 'Po:romance_movie & rest', 'Ni:CalcHard & AnimalPhoto', 'Ib:enumeration_response_num_3 & enumeration_response_num_1']\n",
      "E2R ['Md:FingerSimple & FingerSeq', 'Po:romance_movie & rest', 'Ni:CalcHard & CategoryFluency ', 'Ib:enumeration_response_num_1 & enumeration_response_num_3']\n",
      "E3L ['Md:FingerSeq & FingerSimple', 'Po:romance_movie & rest', 'Ni:CalcHard & AnimalPhoto', 'Ib:punishment & vstm_response_num_2']\n",
      "E3R ['Md:FingerSeq & FingerSimple', 'Po:romance_movie & rest', 'Ni:CalcHard & AnimalPhoto', 'Ib:punishment & vstm_response_num_2']\n"
     ]
    }
   ],
   "source": [
    "cluster = 'E'\n",
    "cluster_labels = [label for label in labels_alpha if cluster in label]\n",
    "for label in cluster_labels:\n",
    "    print(label, label_profile[label])\n"
   ]
  }
 ],
 "metadata": {
  "kernelspec": {
   "display_name": "Python 3.9.5 ('env': venv)",
   "language": "python",
   "name": "python3"
  },
  "language_info": {
   "codemirror_mode": {
    "name": "ipython",
    "version": 3
   },
   "file_extension": ".py",
   "mimetype": "text/x-python",
   "name": "python",
   "nbconvert_exporter": "python",
   "pygments_lexer": "ipython3",
   "version": "3.9.5"
  },
  "orig_nbformat": 4,
  "vscode": {
   "interpreter": {
    "hash": "6f576643147e4b8cf152abb3cc999e302dc7167a7c41b51dd2e17d05f3cd1945"
   }
  }
 },
 "nbformat": 4,
 "nbformat_minor": 2
}
